{
 "cells": [
  {
   "cell_type": "code",
   "execution_count": 229,
   "metadata": {},
   "outputs": [],
   "source": [
    "import pandas as pd\n",
    "import numpy as np\n",
    "np.random.seed(0)\n",
    "import matplotlib.pyplot as plt\n",
    "from sklearn import ensemble\n",
    "from sklearn.metrics import cohen_kappa_score, roc_curve, auc, accuracy_score, classification_report, confusion_matrix, precision_score, recall_score, f1_score, fbeta_score\n",
    "from sklearn.tree import DecisionTreeClassifier\n",
    "from sklearn.model_selection import train_test_split, GridSearchCV, cross_val_score\n",
    "from sklearn.ensemble import BaggingClassifier, RandomForestClassifier, AdaBoostClassifier\n",
    "from sklearn.preprocessing import StandardScaler, scale, MinMaxScaler\n",
    "from sklearn.linear_model import LogisticRegression"
   ]
  },
  {
   "cell_type": "code",
   "execution_count": 2,
   "metadata": {},
   "outputs": [],
   "source": [
    "merged_df = pd.read_csv('Data/merged_df.csv')"
   ]
  },
  {
   "cell_type": "code",
   "execution_count": 3,
   "metadata": {},
   "outputs": [
    {
     "name": "stdout",
     "output_type": "stream",
     "text": [
      "Enter your Team:\n",
      "PHI\n"
     ]
    }
   ],
   "source": [
    "# Input team that is on offense\n",
    "print('Enter your Team:')\n",
    "x = input()"
   ]
  },
  {
   "cell_type": "code",
   "execution_count": 5,
   "metadata": {},
   "outputs": [],
   "source": [
    "final_df = merged_df[(merged_df.posteam == x)]"
   ]
  },
  {
   "cell_type": "code",
   "execution_count": 6,
   "metadata": {},
   "outputs": [
    {
     "data": {
      "text/html": [
       "<div>\n",
       "<style scoped>\n",
       "    .dataframe tbody tr th:only-of-type {\n",
       "        vertical-align: middle;\n",
       "    }\n",
       "\n",
       "    .dataframe tbody tr th {\n",
       "        vertical-align: top;\n",
       "    }\n",
       "\n",
       "    .dataframe thead th {\n",
       "        text-align: right;\n",
       "    }\n",
       "</style>\n",
       "<table border=\"1\" class=\"dataframe\">\n",
       "  <thead>\n",
       "    <tr style=\"text-align: right;\">\n",
       "      <th></th>\n",
       "      <th>Year</th>\n",
       "      <th>posteam</th>\n",
       "      <th>defteam</th>\n",
       "      <th>posteam_type</th>\n",
       "      <th>yardline_100</th>\n",
       "      <th>quarter_seconds_remaining</th>\n",
       "      <th>half_seconds_remaining</th>\n",
       "      <th>game_seconds_remaining</th>\n",
       "      <th>qtr</th>\n",
       "      <th>down</th>\n",
       "      <th>...</th>\n",
       "      <th>Def_Att_Pass</th>\n",
       "      <th>Def_Comp_Pct</th>\n",
       "      <th>Def_TD_PA</th>\n",
       "      <th>Def_INT_PA</th>\n",
       "      <th>Def_NY/A</th>\n",
       "      <th>Def_1D_PA</th>\n",
       "      <th>Def_Att_Rush</th>\n",
       "      <th>Def_TD_RA</th>\n",
       "      <th>Def_Y/A</th>\n",
       "      <th>Def_1D_RA</th>\n",
       "    </tr>\n",
       "  </thead>\n",
       "  <tbody>\n",
       "    <tr>\n",
       "      <th>1852</th>\n",
       "      <td>2019</td>\n",
       "      <td>PHI</td>\n",
       "      <td>WAS</td>\n",
       "      <td>1</td>\n",
       "      <td>75.0</td>\n",
       "      <td>654.0</td>\n",
       "      <td>1554.0</td>\n",
       "      <td>3354.0</td>\n",
       "      <td>1</td>\n",
       "      <td>1.0</td>\n",
       "      <td>...</td>\n",
       "      <td>540</td>\n",
       "      <td>0.687037</td>\n",
       "      <td>0.064815</td>\n",
       "      <td>0.024074</td>\n",
       "      <td>6.5</td>\n",
       "      <td>0.370370</td>\n",
       "      <td>493</td>\n",
       "      <td>0.028398</td>\n",
       "      <td>4.7</td>\n",
       "      <td>0.243408</td>\n",
       "    </tr>\n",
       "    <tr>\n",
       "      <th>1853</th>\n",
       "      <td>2019</td>\n",
       "      <td>PHI</td>\n",
       "      <td>WAS</td>\n",
       "      <td>1</td>\n",
       "      <td>75.0</td>\n",
       "      <td>648.0</td>\n",
       "      <td>1548.0</td>\n",
       "      <td>3348.0</td>\n",
       "      <td>1</td>\n",
       "      <td>2.0</td>\n",
       "      <td>...</td>\n",
       "      <td>540</td>\n",
       "      <td>0.687037</td>\n",
       "      <td>0.064815</td>\n",
       "      <td>0.024074</td>\n",
       "      <td>6.5</td>\n",
       "      <td>0.370370</td>\n",
       "      <td>493</td>\n",
       "      <td>0.028398</td>\n",
       "      <td>4.7</td>\n",
       "      <td>0.243408</td>\n",
       "    </tr>\n",
       "    <tr>\n",
       "      <th>1854</th>\n",
       "      <td>2019</td>\n",
       "      <td>PHI</td>\n",
       "      <td>WAS</td>\n",
       "      <td>1</td>\n",
       "      <td>64.0</td>\n",
       "      <td>617.0</td>\n",
       "      <td>1517.0</td>\n",
       "      <td>3317.0</td>\n",
       "      <td>1</td>\n",
       "      <td>1.0</td>\n",
       "      <td>...</td>\n",
       "      <td>540</td>\n",
       "      <td>0.687037</td>\n",
       "      <td>0.064815</td>\n",
       "      <td>0.024074</td>\n",
       "      <td>6.5</td>\n",
       "      <td>0.370370</td>\n",
       "      <td>493</td>\n",
       "      <td>0.028398</td>\n",
       "      <td>4.7</td>\n",
       "      <td>0.243408</td>\n",
       "    </tr>\n",
       "    <tr>\n",
       "      <th>1855</th>\n",
       "      <td>2019</td>\n",
       "      <td>PHI</td>\n",
       "      <td>WAS</td>\n",
       "      <td>1</td>\n",
       "      <td>62.0</td>\n",
       "      <td>575.0</td>\n",
       "      <td>1475.0</td>\n",
       "      <td>3275.0</td>\n",
       "      <td>1</td>\n",
       "      <td>2.0</td>\n",
       "      <td>...</td>\n",
       "      <td>540</td>\n",
       "      <td>0.687037</td>\n",
       "      <td>0.064815</td>\n",
       "      <td>0.024074</td>\n",
       "      <td>6.5</td>\n",
       "      <td>0.370370</td>\n",
       "      <td>493</td>\n",
       "      <td>0.028398</td>\n",
       "      <td>4.7</td>\n",
       "      <td>0.243408</td>\n",
       "    </tr>\n",
       "    <tr>\n",
       "      <th>1856</th>\n",
       "      <td>2019</td>\n",
       "      <td>PHI</td>\n",
       "      <td>WAS</td>\n",
       "      <td>1</td>\n",
       "      <td>71.0</td>\n",
       "      <td>539.0</td>\n",
       "      <td>1439.0</td>\n",
       "      <td>3239.0</td>\n",
       "      <td>1</td>\n",
       "      <td>3.0</td>\n",
       "      <td>...</td>\n",
       "      <td>540</td>\n",
       "      <td>0.687037</td>\n",
       "      <td>0.064815</td>\n",
       "      <td>0.024074</td>\n",
       "      <td>6.5</td>\n",
       "      <td>0.370370</td>\n",
       "      <td>493</td>\n",
       "      <td>0.028398</td>\n",
       "      <td>4.7</td>\n",
       "      <td>0.243408</td>\n",
       "    </tr>\n",
       "    <tr>\n",
       "      <th>...</th>\n",
       "      <td>...</td>\n",
       "      <td>...</td>\n",
       "      <td>...</td>\n",
       "      <td>...</td>\n",
       "      <td>...</td>\n",
       "      <td>...</td>\n",
       "      <td>...</td>\n",
       "      <td>...</td>\n",
       "      <td>...</td>\n",
       "      <td>...</td>\n",
       "      <td>...</td>\n",
       "      <td>...</td>\n",
       "      <td>...</td>\n",
       "      <td>...</td>\n",
       "      <td>...</td>\n",
       "      <td>...</td>\n",
       "      <td>...</td>\n",
       "      <td>...</td>\n",
       "      <td>...</td>\n",
       "      <td>...</td>\n",
       "      <td>...</td>\n",
       "    </tr>\n",
       "    <tr>\n",
       "      <th>99958</th>\n",
       "      <td>2018</td>\n",
       "      <td>PHI</td>\n",
       "      <td>NE</td>\n",
       "      <td>0</td>\n",
       "      <td>11.0</td>\n",
       "      <td>150.0</td>\n",
       "      <td>150.0</td>\n",
       "      <td>150.0</td>\n",
       "      <td>4</td>\n",
       "      <td>2.0</td>\n",
       "      <td>...</td>\n",
       "      <td>605</td>\n",
       "      <td>0.611570</td>\n",
       "      <td>0.047934</td>\n",
       "      <td>0.029752</td>\n",
       "      <td>6.2</td>\n",
       "      <td>0.343802</td>\n",
       "      <td>367</td>\n",
       "      <td>0.019074</td>\n",
       "      <td>4.9</td>\n",
       "      <td>0.253406</td>\n",
       "    </tr>\n",
       "    <tr>\n",
       "      <th>99959</th>\n",
       "      <td>2018</td>\n",
       "      <td>PHI</td>\n",
       "      <td>NE</td>\n",
       "      <td>0</td>\n",
       "      <td>11.0</td>\n",
       "      <td>145.0</td>\n",
       "      <td>145.0</td>\n",
       "      <td>145.0</td>\n",
       "      <td>4</td>\n",
       "      <td>3.0</td>\n",
       "      <td>...</td>\n",
       "      <td>605</td>\n",
       "      <td>0.611570</td>\n",
       "      <td>0.047934</td>\n",
       "      <td>0.029752</td>\n",
       "      <td>6.2</td>\n",
       "      <td>0.343802</td>\n",
       "      <td>367</td>\n",
       "      <td>0.019074</td>\n",
       "      <td>4.9</td>\n",
       "      <td>0.253406</td>\n",
       "    </tr>\n",
       "    <tr>\n",
       "      <th>99962</th>\n",
       "      <td>2018</td>\n",
       "      <td>PHI</td>\n",
       "      <td>NE</td>\n",
       "      <td>0</td>\n",
       "      <td>31.0</td>\n",
       "      <td>129.0</td>\n",
       "      <td>129.0</td>\n",
       "      <td>129.0</td>\n",
       "      <td>4</td>\n",
       "      <td>1.0</td>\n",
       "      <td>...</td>\n",
       "      <td>605</td>\n",
       "      <td>0.611570</td>\n",
       "      <td>0.047934</td>\n",
       "      <td>0.029752</td>\n",
       "      <td>6.2</td>\n",
       "      <td>0.343802</td>\n",
       "      <td>367</td>\n",
       "      <td>0.019074</td>\n",
       "      <td>4.9</td>\n",
       "      <td>0.253406</td>\n",
       "    </tr>\n",
       "    <tr>\n",
       "      <th>99963</th>\n",
       "      <td>2018</td>\n",
       "      <td>PHI</td>\n",
       "      <td>NE</td>\n",
       "      <td>0</td>\n",
       "      <td>29.0</td>\n",
       "      <td>123.0</td>\n",
       "      <td>123.0</td>\n",
       "      <td>123.0</td>\n",
       "      <td>4</td>\n",
       "      <td>2.0</td>\n",
       "      <td>...</td>\n",
       "      <td>605</td>\n",
       "      <td>0.611570</td>\n",
       "      <td>0.047934</td>\n",
       "      <td>0.029752</td>\n",
       "      <td>6.2</td>\n",
       "      <td>0.343802</td>\n",
       "      <td>367</td>\n",
       "      <td>0.019074</td>\n",
       "      <td>4.9</td>\n",
       "      <td>0.253406</td>\n",
       "    </tr>\n",
       "    <tr>\n",
       "      <th>99964</th>\n",
       "      <td>2018</td>\n",
       "      <td>PHI</td>\n",
       "      <td>NE</td>\n",
       "      <td>0</td>\n",
       "      <td>26.0</td>\n",
       "      <td>116.0</td>\n",
       "      <td>116.0</td>\n",
       "      <td>116.0</td>\n",
       "      <td>4</td>\n",
       "      <td>3.0</td>\n",
       "      <td>...</td>\n",
       "      <td>605</td>\n",
       "      <td>0.611570</td>\n",
       "      <td>0.047934</td>\n",
       "      <td>0.029752</td>\n",
       "      <td>6.2</td>\n",
       "      <td>0.343802</td>\n",
       "      <td>367</td>\n",
       "      <td>0.019074</td>\n",
       "      <td>4.9</td>\n",
       "      <td>0.253406</td>\n",
       "    </tr>\n",
       "  </tbody>\n",
       "</table>\n",
       "<p>3531 rows × 28 columns</p>\n",
       "</div>"
      ],
      "text/plain": [
       "       Year posteam defteam  posteam_type  yardline_100  \\\n",
       "1852   2019     PHI     WAS             1          75.0   \n",
       "1853   2019     PHI     WAS             1          75.0   \n",
       "1854   2019     PHI     WAS             1          64.0   \n",
       "1855   2019     PHI     WAS             1          62.0   \n",
       "1856   2019     PHI     WAS             1          71.0   \n",
       "...     ...     ...     ...           ...           ...   \n",
       "99958  2018     PHI      NE             0          11.0   \n",
       "99959  2018     PHI      NE             0          11.0   \n",
       "99962  2018     PHI      NE             0          31.0   \n",
       "99963  2018     PHI      NE             0          29.0   \n",
       "99964  2018     PHI      NE             0          26.0   \n",
       "\n",
       "       quarter_seconds_remaining  half_seconds_remaining  \\\n",
       "1852                       654.0                  1554.0   \n",
       "1853                       648.0                  1548.0   \n",
       "1854                       617.0                  1517.0   \n",
       "1855                       575.0                  1475.0   \n",
       "1856                       539.0                  1439.0   \n",
       "...                          ...                     ...   \n",
       "99958                      150.0                   150.0   \n",
       "99959                      145.0                   145.0   \n",
       "99962                      129.0                   129.0   \n",
       "99963                      123.0                   123.0   \n",
       "99964                      116.0                   116.0   \n",
       "\n",
       "       game_seconds_remaining  qtr  down  ...  Def_Att_Pass  Def_Comp_Pct  \\\n",
       "1852                   3354.0    1   1.0  ...           540      0.687037   \n",
       "1853                   3348.0    1   2.0  ...           540      0.687037   \n",
       "1854                   3317.0    1   1.0  ...           540      0.687037   \n",
       "1855                   3275.0    1   2.0  ...           540      0.687037   \n",
       "1856                   3239.0    1   3.0  ...           540      0.687037   \n",
       "...                       ...  ...   ...  ...           ...           ...   \n",
       "99958                   150.0    4   2.0  ...           605      0.611570   \n",
       "99959                   145.0    4   3.0  ...           605      0.611570   \n",
       "99962                   129.0    4   1.0  ...           605      0.611570   \n",
       "99963                   123.0    4   2.0  ...           605      0.611570   \n",
       "99964                   116.0    4   3.0  ...           605      0.611570   \n",
       "\n",
       "      Def_TD_PA  Def_INT_PA  Def_NY/A  Def_1D_PA  Def_Att_Rush  Def_TD_RA  \\\n",
       "1852   0.064815    0.024074       6.5   0.370370           493   0.028398   \n",
       "1853   0.064815    0.024074       6.5   0.370370           493   0.028398   \n",
       "1854   0.064815    0.024074       6.5   0.370370           493   0.028398   \n",
       "1855   0.064815    0.024074       6.5   0.370370           493   0.028398   \n",
       "1856   0.064815    0.024074       6.5   0.370370           493   0.028398   \n",
       "...         ...         ...       ...        ...           ...        ...   \n",
       "99958  0.047934    0.029752       6.2   0.343802           367   0.019074   \n",
       "99959  0.047934    0.029752       6.2   0.343802           367   0.019074   \n",
       "99962  0.047934    0.029752       6.2   0.343802           367   0.019074   \n",
       "99963  0.047934    0.029752       6.2   0.343802           367   0.019074   \n",
       "99964  0.047934    0.029752       6.2   0.343802           367   0.019074   \n",
       "\n",
       "       Def_Y/A  Def_1D_RA  \n",
       "1852       4.7   0.243408  \n",
       "1853       4.7   0.243408  \n",
       "1854       4.7   0.243408  \n",
       "1855       4.7   0.243408  \n",
       "1856       4.7   0.243408  \n",
       "...        ...        ...  \n",
       "99958      4.9   0.253406  \n",
       "99959      4.9   0.253406  \n",
       "99962      4.9   0.253406  \n",
       "99963      4.9   0.253406  \n",
       "99964      4.9   0.253406  \n",
       "\n",
       "[3531 rows x 28 columns]"
      ]
     },
     "execution_count": 6,
     "metadata": {},
     "output_type": "execute_result"
    }
   ],
   "source": [
    "final_df"
   ]
  },
  {
   "cell_type": "code",
   "execution_count": 7,
   "metadata": {},
   "outputs": [],
   "source": [
    "final_df.reset_index(drop=True, inplace=True)"
   ]
  },
  {
   "cell_type": "code",
   "execution_count": 251,
   "metadata": {},
   "outputs": [
    {
     "name": "stderr",
     "output_type": "stream",
     "text": [
      "C:\\ProgramData\\Anaconda3\\lib\\site-packages\\ipykernel_launcher.py:2: SettingWithCopyWarning: \n",
      "A value is trying to be set on a copy of a slice from a DataFrame.\n",
      "Try using .loc[row_indexer,col_indexer] = value instead\n",
      "\n",
      "See the caveats in the documentation: https://pandas.pydata.org/pandas-docs/stable/user_guide/indexing.html#returning-a-view-versus-a-copy\n",
      "  \n"
     ]
    },
    {
     "data": {
      "text/html": [
       "<div>\n",
       "<style scoped>\n",
       "    .dataframe tbody tr th:only-of-type {\n",
       "        vertical-align: middle;\n",
       "    }\n",
       "\n",
       "    .dataframe tbody tr th {\n",
       "        vertical-align: top;\n",
       "    }\n",
       "\n",
       "    .dataframe thead th {\n",
       "        text-align: right;\n",
       "    }\n",
       "</style>\n",
       "<table border=\"1\" class=\"dataframe\">\n",
       "  <thead>\n",
       "    <tr style=\"text-align: right;\">\n",
       "      <th></th>\n",
       "      <th>Year</th>\n",
       "      <th>posteam</th>\n",
       "      <th>defteam</th>\n",
       "      <th>posteam_type</th>\n",
       "      <th>yardline_100</th>\n",
       "      <th>quarter_seconds_remaining</th>\n",
       "      <th>half_seconds_remaining</th>\n",
       "      <th>game_seconds_remaining</th>\n",
       "      <th>qtr</th>\n",
       "      <th>down</th>\n",
       "      <th>...</th>\n",
       "      <th>Def_Att_Pass</th>\n",
       "      <th>Def_Comp_Pct</th>\n",
       "      <th>Def_TD_PA</th>\n",
       "      <th>Def_INT_PA</th>\n",
       "      <th>Def_NY/A</th>\n",
       "      <th>Def_1D_PA</th>\n",
       "      <th>Def_Att_Rush</th>\n",
       "      <th>Def_TD_RA</th>\n",
       "      <th>Def_Y/A</th>\n",
       "      <th>Def_1D_RA</th>\n",
       "    </tr>\n",
       "  </thead>\n",
       "  <tbody>\n",
       "    <tr>\n",
       "      <th>0</th>\n",
       "      <td>2019</td>\n",
       "      <td>PHI</td>\n",
       "      <td>WAS</td>\n",
       "      <td>1</td>\n",
       "      <td>75.0</td>\n",
       "      <td>654.0</td>\n",
       "      <td>1554.0</td>\n",
       "      <td>3354.0</td>\n",
       "      <td>1</td>\n",
       "      <td>1.0</td>\n",
       "      <td>...</td>\n",
       "      <td>540</td>\n",
       "      <td>0.687037</td>\n",
       "      <td>0.064815</td>\n",
       "      <td>0.024074</td>\n",
       "      <td>6.5</td>\n",
       "      <td>0.370370</td>\n",
       "      <td>493</td>\n",
       "      <td>0.028398</td>\n",
       "      <td>4.7</td>\n",
       "      <td>0.243408</td>\n",
       "    </tr>\n",
       "    <tr>\n",
       "      <th>1</th>\n",
       "      <td>2019</td>\n",
       "      <td>PHI</td>\n",
       "      <td>WAS</td>\n",
       "      <td>1</td>\n",
       "      <td>75.0</td>\n",
       "      <td>648.0</td>\n",
       "      <td>1548.0</td>\n",
       "      <td>3348.0</td>\n",
       "      <td>1</td>\n",
       "      <td>2.0</td>\n",
       "      <td>...</td>\n",
       "      <td>540</td>\n",
       "      <td>0.687037</td>\n",
       "      <td>0.064815</td>\n",
       "      <td>0.024074</td>\n",
       "      <td>6.5</td>\n",
       "      <td>0.370370</td>\n",
       "      <td>493</td>\n",
       "      <td>0.028398</td>\n",
       "      <td>4.7</td>\n",
       "      <td>0.243408</td>\n",
       "    </tr>\n",
       "    <tr>\n",
       "      <th>2</th>\n",
       "      <td>2019</td>\n",
       "      <td>PHI</td>\n",
       "      <td>WAS</td>\n",
       "      <td>1</td>\n",
       "      <td>64.0</td>\n",
       "      <td>617.0</td>\n",
       "      <td>1517.0</td>\n",
       "      <td>3317.0</td>\n",
       "      <td>1</td>\n",
       "      <td>1.0</td>\n",
       "      <td>...</td>\n",
       "      <td>540</td>\n",
       "      <td>0.687037</td>\n",
       "      <td>0.064815</td>\n",
       "      <td>0.024074</td>\n",
       "      <td>6.5</td>\n",
       "      <td>0.370370</td>\n",
       "      <td>493</td>\n",
       "      <td>0.028398</td>\n",
       "      <td>4.7</td>\n",
       "      <td>0.243408</td>\n",
       "    </tr>\n",
       "    <tr>\n",
       "      <th>3</th>\n",
       "      <td>2019</td>\n",
       "      <td>PHI</td>\n",
       "      <td>WAS</td>\n",
       "      <td>1</td>\n",
       "      <td>62.0</td>\n",
       "      <td>575.0</td>\n",
       "      <td>1475.0</td>\n",
       "      <td>3275.0</td>\n",
       "      <td>1</td>\n",
       "      <td>2.0</td>\n",
       "      <td>...</td>\n",
       "      <td>540</td>\n",
       "      <td>0.687037</td>\n",
       "      <td>0.064815</td>\n",
       "      <td>0.024074</td>\n",
       "      <td>6.5</td>\n",
       "      <td>0.370370</td>\n",
       "      <td>493</td>\n",
       "      <td>0.028398</td>\n",
       "      <td>4.7</td>\n",
       "      <td>0.243408</td>\n",
       "    </tr>\n",
       "    <tr>\n",
       "      <th>4</th>\n",
       "      <td>2019</td>\n",
       "      <td>PHI</td>\n",
       "      <td>WAS</td>\n",
       "      <td>1</td>\n",
       "      <td>71.0</td>\n",
       "      <td>539.0</td>\n",
       "      <td>1439.0</td>\n",
       "      <td>3239.0</td>\n",
       "      <td>1</td>\n",
       "      <td>3.0</td>\n",
       "      <td>...</td>\n",
       "      <td>540</td>\n",
       "      <td>0.687037</td>\n",
       "      <td>0.064815</td>\n",
       "      <td>0.024074</td>\n",
       "      <td>6.5</td>\n",
       "      <td>0.370370</td>\n",
       "      <td>493</td>\n",
       "      <td>0.028398</td>\n",
       "      <td>4.7</td>\n",
       "      <td>0.243408</td>\n",
       "    </tr>\n",
       "    <tr>\n",
       "      <th>...</th>\n",
       "      <td>...</td>\n",
       "      <td>...</td>\n",
       "      <td>...</td>\n",
       "      <td>...</td>\n",
       "      <td>...</td>\n",
       "      <td>...</td>\n",
       "      <td>...</td>\n",
       "      <td>...</td>\n",
       "      <td>...</td>\n",
       "      <td>...</td>\n",
       "      <td>...</td>\n",
       "      <td>...</td>\n",
       "      <td>...</td>\n",
       "      <td>...</td>\n",
       "      <td>...</td>\n",
       "      <td>...</td>\n",
       "      <td>...</td>\n",
       "      <td>...</td>\n",
       "      <td>...</td>\n",
       "      <td>...</td>\n",
       "      <td>...</td>\n",
       "    </tr>\n",
       "    <tr>\n",
       "      <th>3526</th>\n",
       "      <td>2018</td>\n",
       "      <td>PHI</td>\n",
       "      <td>NE</td>\n",
       "      <td>0</td>\n",
       "      <td>11.0</td>\n",
       "      <td>150.0</td>\n",
       "      <td>150.0</td>\n",
       "      <td>150.0</td>\n",
       "      <td>4</td>\n",
       "      <td>2.0</td>\n",
       "      <td>...</td>\n",
       "      <td>605</td>\n",
       "      <td>0.611570</td>\n",
       "      <td>0.047934</td>\n",
       "      <td>0.029752</td>\n",
       "      <td>6.2</td>\n",
       "      <td>0.343802</td>\n",
       "      <td>367</td>\n",
       "      <td>0.019074</td>\n",
       "      <td>4.9</td>\n",
       "      <td>0.253406</td>\n",
       "    </tr>\n",
       "    <tr>\n",
       "      <th>3527</th>\n",
       "      <td>2018</td>\n",
       "      <td>PHI</td>\n",
       "      <td>NE</td>\n",
       "      <td>0</td>\n",
       "      <td>11.0</td>\n",
       "      <td>145.0</td>\n",
       "      <td>145.0</td>\n",
       "      <td>145.0</td>\n",
       "      <td>4</td>\n",
       "      <td>3.0</td>\n",
       "      <td>...</td>\n",
       "      <td>605</td>\n",
       "      <td>0.611570</td>\n",
       "      <td>0.047934</td>\n",
       "      <td>0.029752</td>\n",
       "      <td>6.2</td>\n",
       "      <td>0.343802</td>\n",
       "      <td>367</td>\n",
       "      <td>0.019074</td>\n",
       "      <td>4.9</td>\n",
       "      <td>0.253406</td>\n",
       "    </tr>\n",
       "    <tr>\n",
       "      <th>3528</th>\n",
       "      <td>2018</td>\n",
       "      <td>PHI</td>\n",
       "      <td>NE</td>\n",
       "      <td>0</td>\n",
       "      <td>31.0</td>\n",
       "      <td>129.0</td>\n",
       "      <td>129.0</td>\n",
       "      <td>129.0</td>\n",
       "      <td>4</td>\n",
       "      <td>1.0</td>\n",
       "      <td>...</td>\n",
       "      <td>605</td>\n",
       "      <td>0.611570</td>\n",
       "      <td>0.047934</td>\n",
       "      <td>0.029752</td>\n",
       "      <td>6.2</td>\n",
       "      <td>0.343802</td>\n",
       "      <td>367</td>\n",
       "      <td>0.019074</td>\n",
       "      <td>4.9</td>\n",
       "      <td>0.253406</td>\n",
       "    </tr>\n",
       "    <tr>\n",
       "      <th>3529</th>\n",
       "      <td>2018</td>\n",
       "      <td>PHI</td>\n",
       "      <td>NE</td>\n",
       "      <td>0</td>\n",
       "      <td>29.0</td>\n",
       "      <td>123.0</td>\n",
       "      <td>123.0</td>\n",
       "      <td>123.0</td>\n",
       "      <td>4</td>\n",
       "      <td>2.0</td>\n",
       "      <td>...</td>\n",
       "      <td>605</td>\n",
       "      <td>0.611570</td>\n",
       "      <td>0.047934</td>\n",
       "      <td>0.029752</td>\n",
       "      <td>6.2</td>\n",
       "      <td>0.343802</td>\n",
       "      <td>367</td>\n",
       "      <td>0.019074</td>\n",
       "      <td>4.9</td>\n",
       "      <td>0.253406</td>\n",
       "    </tr>\n",
       "    <tr>\n",
       "      <th>3530</th>\n",
       "      <td>2018</td>\n",
       "      <td>PHI</td>\n",
       "      <td>NE</td>\n",
       "      <td>0</td>\n",
       "      <td>26.0</td>\n",
       "      <td>116.0</td>\n",
       "      <td>116.0</td>\n",
       "      <td>116.0</td>\n",
       "      <td>4</td>\n",
       "      <td>3.0</td>\n",
       "      <td>...</td>\n",
       "      <td>605</td>\n",
       "      <td>0.611570</td>\n",
       "      <td>0.047934</td>\n",
       "      <td>0.029752</td>\n",
       "      <td>6.2</td>\n",
       "      <td>0.343802</td>\n",
       "      <td>367</td>\n",
       "      <td>0.019074</td>\n",
       "      <td>4.9</td>\n",
       "      <td>0.253406</td>\n",
       "    </tr>\n",
       "  </tbody>\n",
       "</table>\n",
       "<p>3531 rows × 28 columns</p>\n",
       "</div>"
      ],
      "text/plain": [
       "      Year posteam defteam  posteam_type  yardline_100  \\\n",
       "0     2019     PHI     WAS             1          75.0   \n",
       "1     2019     PHI     WAS             1          75.0   \n",
       "2     2019     PHI     WAS             1          64.0   \n",
       "3     2019     PHI     WAS             1          62.0   \n",
       "4     2019     PHI     WAS             1          71.0   \n",
       "...    ...     ...     ...           ...           ...   \n",
       "3526  2018     PHI      NE             0          11.0   \n",
       "3527  2018     PHI      NE             0          11.0   \n",
       "3528  2018     PHI      NE             0          31.0   \n",
       "3529  2018     PHI      NE             0          29.0   \n",
       "3530  2018     PHI      NE             0          26.0   \n",
       "\n",
       "      quarter_seconds_remaining  half_seconds_remaining  \\\n",
       "0                         654.0                  1554.0   \n",
       "1                         648.0                  1548.0   \n",
       "2                         617.0                  1517.0   \n",
       "3                         575.0                  1475.0   \n",
       "4                         539.0                  1439.0   \n",
       "...                         ...                     ...   \n",
       "3526                      150.0                   150.0   \n",
       "3527                      145.0                   145.0   \n",
       "3528                      129.0                   129.0   \n",
       "3529                      123.0                   123.0   \n",
       "3530                      116.0                   116.0   \n",
       "\n",
       "      game_seconds_remaining  qtr  down  ...  Def_Att_Pass  Def_Comp_Pct  \\\n",
       "0                     3354.0    1   1.0  ...           540      0.687037   \n",
       "1                     3348.0    1   2.0  ...           540      0.687037   \n",
       "2                     3317.0    1   1.0  ...           540      0.687037   \n",
       "3                     3275.0    1   2.0  ...           540      0.687037   \n",
       "4                     3239.0    1   3.0  ...           540      0.687037   \n",
       "...                      ...  ...   ...  ...           ...           ...   \n",
       "3526                   150.0    4   2.0  ...           605      0.611570   \n",
       "3527                   145.0    4   3.0  ...           605      0.611570   \n",
       "3528                   129.0    4   1.0  ...           605      0.611570   \n",
       "3529                   123.0    4   2.0  ...           605      0.611570   \n",
       "3530                   116.0    4   3.0  ...           605      0.611570   \n",
       "\n",
       "      Def_TD_PA  Def_INT_PA  Def_NY/A  Def_1D_PA  Def_Att_Rush  Def_TD_RA  \\\n",
       "0      0.064815    0.024074       6.5   0.370370           493   0.028398   \n",
       "1      0.064815    0.024074       6.5   0.370370           493   0.028398   \n",
       "2      0.064815    0.024074       6.5   0.370370           493   0.028398   \n",
       "3      0.064815    0.024074       6.5   0.370370           493   0.028398   \n",
       "4      0.064815    0.024074       6.5   0.370370           493   0.028398   \n",
       "...         ...         ...       ...        ...           ...        ...   \n",
       "3526   0.047934    0.029752       6.2   0.343802           367   0.019074   \n",
       "3527   0.047934    0.029752       6.2   0.343802           367   0.019074   \n",
       "3528   0.047934    0.029752       6.2   0.343802           367   0.019074   \n",
       "3529   0.047934    0.029752       6.2   0.343802           367   0.019074   \n",
       "3530   0.047934    0.029752       6.2   0.343802           367   0.019074   \n",
       "\n",
       "      Def_Y/A  Def_1D_RA  \n",
       "0         4.7   0.243408  \n",
       "1         4.7   0.243408  \n",
       "2         4.7   0.243408  \n",
       "3         4.7   0.243408  \n",
       "4         4.7   0.243408  \n",
       "...       ...        ...  \n",
       "3526      4.9   0.253406  \n",
       "3527      4.9   0.253406  \n",
       "3528      4.9   0.253406  \n",
       "3529      4.9   0.253406  \n",
       "3530      4.9   0.253406  \n",
       "\n",
       "[3531 rows x 28 columns]"
      ]
     },
     "execution_count": 251,
     "metadata": {},
     "output_type": "execute_result"
    }
   ],
   "source": [
    "# Replace Run/Pass with 0/1\n",
    "final_df['play_type']=final_df['play_type'].replace({'run': '0', 'pass':'1'}).astype(int)\n",
    "final_df"
   ]
  },
  {
   "cell_type": "code",
   "execution_count": 252,
   "metadata": {},
   "outputs": [
    {
     "data": {
      "text/plain": [
       "array([1, 0])"
      ]
     },
     "execution_count": 252,
     "metadata": {},
     "output_type": "execute_result"
    }
   ],
   "source": [
    "final_df['play_type'].unique()"
   ]
  },
  {
   "cell_type": "code",
   "execution_count": 119,
   "metadata": {},
   "outputs": [],
   "source": [
    "#feature importance\n",
    "def plot_feature_importances(model):\n",
    "    n_features = X_train.shape[1]\n",
    "    plt.figure(figsize=(8,8))\n",
    "    plt.barh(range(n_features), model.feature_importances_, align='center') \n",
    "    plt.yticks(np.arange(n_features), X_train.columns.values) \n",
    "    plt.xlabel('Feature importance')\n",
    "    plt.ylabel('Feature')"
   ]
  },
  {
   "cell_type": "markdown",
   "metadata": {},
   "source": [
    "# Modeling"
   ]
  },
  {
   "cell_type": "code",
   "execution_count": 253,
   "metadata": {},
   "outputs": [],
   "source": [
    "y = final_df['play_type']\n",
    "X = final_df.drop({'play_type', 'posteam', 'defteam', 'Year'}, axis=1)"
   ]
  },
  {
   "cell_type": "code",
   "execution_count": 254,
   "metadata": {},
   "outputs": [
    {
     "data": {
      "text/html": [
       "<div>\n",
       "<style scoped>\n",
       "    .dataframe tbody tr th:only-of-type {\n",
       "        vertical-align: middle;\n",
       "    }\n",
       "\n",
       "    .dataframe tbody tr th {\n",
       "        vertical-align: top;\n",
       "    }\n",
       "\n",
       "    .dataframe thead th {\n",
       "        text-align: right;\n",
       "    }\n",
       "</style>\n",
       "<table border=\"1\" class=\"dataframe\">\n",
       "  <thead>\n",
       "    <tr style=\"text-align: right;\">\n",
       "      <th></th>\n",
       "      <th>posteam_type</th>\n",
       "      <th>yardline_100</th>\n",
       "      <th>quarter_seconds_remaining</th>\n",
       "      <th>half_seconds_remaining</th>\n",
       "      <th>game_seconds_remaining</th>\n",
       "      <th>qtr</th>\n",
       "      <th>down</th>\n",
       "      <th>goal_to_go</th>\n",
       "      <th>ydstogo</th>\n",
       "      <th>score_differential</th>\n",
       "      <th>...</th>\n",
       "      <th>Def_Att_Pass</th>\n",
       "      <th>Def_Comp_Pct</th>\n",
       "      <th>Def_TD_PA</th>\n",
       "      <th>Def_INT_PA</th>\n",
       "      <th>Def_NY/A</th>\n",
       "      <th>Def_1D_PA</th>\n",
       "      <th>Def_Att_Rush</th>\n",
       "      <th>Def_TD_RA</th>\n",
       "      <th>Def_Y/A</th>\n",
       "      <th>Def_1D_RA</th>\n",
       "    </tr>\n",
       "  </thead>\n",
       "  <tbody>\n",
       "    <tr>\n",
       "      <th>0</th>\n",
       "      <td>1.0</td>\n",
       "      <td>0.755102</td>\n",
       "      <td>0.726363</td>\n",
       "      <td>0.863257</td>\n",
       "      <td>0.931648</td>\n",
       "      <td>0.0</td>\n",
       "      <td>0.000000</td>\n",
       "      <td>0.0</td>\n",
       "      <td>0.225</td>\n",
       "      <td>0.472222</td>\n",
       "      <td>...</td>\n",
       "      <td>0.408333</td>\n",
       "      <td>0.763631</td>\n",
       "      <td>0.857421</td>\n",
       "      <td>0.393469</td>\n",
       "      <td>0.625</td>\n",
       "      <td>0.802409</td>\n",
       "      <td>1.0</td>\n",
       "      <td>0.280383</td>\n",
       "      <td>0.777778</td>\n",
       "      <td>0.662559</td>\n",
       "    </tr>\n",
       "    <tr>\n",
       "      <th>1</th>\n",
       "      <td>1.0</td>\n",
       "      <td>0.755102</td>\n",
       "      <td>0.719689</td>\n",
       "      <td>0.859922</td>\n",
       "      <td>0.929981</td>\n",
       "      <td>0.0</td>\n",
       "      <td>0.333333</td>\n",
       "      <td>0.0</td>\n",
       "      <td>0.225</td>\n",
       "      <td>0.472222</td>\n",
       "      <td>...</td>\n",
       "      <td>0.408333</td>\n",
       "      <td>0.763631</td>\n",
       "      <td>0.857421</td>\n",
       "      <td>0.393469</td>\n",
       "      <td>0.625</td>\n",
       "      <td>0.802409</td>\n",
       "      <td>1.0</td>\n",
       "      <td>0.280383</td>\n",
       "      <td>0.777778</td>\n",
       "      <td>0.662559</td>\n",
       "    </tr>\n",
       "    <tr>\n",
       "      <th>2</th>\n",
       "      <td>1.0</td>\n",
       "      <td>0.642857</td>\n",
       "      <td>0.685206</td>\n",
       "      <td>0.842690</td>\n",
       "      <td>0.921367</td>\n",
       "      <td>0.0</td>\n",
       "      <td>0.000000</td>\n",
       "      <td>0.0</td>\n",
       "      <td>0.225</td>\n",
       "      <td>0.472222</td>\n",
       "      <td>...</td>\n",
       "      <td>0.408333</td>\n",
       "      <td>0.763631</td>\n",
       "      <td>0.857421</td>\n",
       "      <td>0.393469</td>\n",
       "      <td>0.625</td>\n",
       "      <td>0.802409</td>\n",
       "      <td>1.0</td>\n",
       "      <td>0.280383</td>\n",
       "      <td>0.777778</td>\n",
       "      <td>0.662559</td>\n",
       "    </tr>\n",
       "    <tr>\n",
       "      <th>3</th>\n",
       "      <td>1.0</td>\n",
       "      <td>0.622449</td>\n",
       "      <td>0.638487</td>\n",
       "      <td>0.819344</td>\n",
       "      <td>0.909697</td>\n",
       "      <td>0.0</td>\n",
       "      <td>0.333333</td>\n",
       "      <td>0.0</td>\n",
       "      <td>0.175</td>\n",
       "      <td>0.472222</td>\n",
       "      <td>...</td>\n",
       "      <td>0.408333</td>\n",
       "      <td>0.763631</td>\n",
       "      <td>0.857421</td>\n",
       "      <td>0.393469</td>\n",
       "      <td>0.625</td>\n",
       "      <td>0.802409</td>\n",
       "      <td>1.0</td>\n",
       "      <td>0.280383</td>\n",
       "      <td>0.777778</td>\n",
       "      <td>0.662559</td>\n",
       "    </tr>\n",
       "    <tr>\n",
       "      <th>4</th>\n",
       "      <td>1.0</td>\n",
       "      <td>0.714286</td>\n",
       "      <td>0.598443</td>\n",
       "      <td>0.799333</td>\n",
       "      <td>0.899694</td>\n",
       "      <td>0.0</td>\n",
       "      <td>0.666667</td>\n",
       "      <td>0.0</td>\n",
       "      <td>0.400</td>\n",
       "      <td>0.472222</td>\n",
       "      <td>...</td>\n",
       "      <td>0.408333</td>\n",
       "      <td>0.763631</td>\n",
       "      <td>0.857421</td>\n",
       "      <td>0.393469</td>\n",
       "      <td>0.625</td>\n",
       "      <td>0.802409</td>\n",
       "      <td>1.0</td>\n",
       "      <td>0.280383</td>\n",
       "      <td>0.777778</td>\n",
       "      <td>0.662559</td>\n",
       "    </tr>\n",
       "  </tbody>\n",
       "</table>\n",
       "<p>5 rows × 24 columns</p>\n",
       "</div>"
      ],
      "text/plain": [
       "   posteam_type  yardline_100  quarter_seconds_remaining  \\\n",
       "0           1.0      0.755102                   0.726363   \n",
       "1           1.0      0.755102                   0.719689   \n",
       "2           1.0      0.642857                   0.685206   \n",
       "3           1.0      0.622449                   0.638487   \n",
       "4           1.0      0.714286                   0.598443   \n",
       "\n",
       "   half_seconds_remaining  game_seconds_remaining  qtr      down  goal_to_go  \\\n",
       "0                0.863257                0.931648  0.0  0.000000         0.0   \n",
       "1                0.859922                0.929981  0.0  0.333333         0.0   \n",
       "2                0.842690                0.921367  0.0  0.000000         0.0   \n",
       "3                0.819344                0.909697  0.0  0.333333         0.0   \n",
       "4                0.799333                0.899694  0.0  0.666667         0.0   \n",
       "\n",
       "   ydstogo  score_differential  ...  Def_Att_Pass  Def_Comp_Pct  Def_TD_PA  \\\n",
       "0    0.225            0.472222  ...      0.408333      0.763631   0.857421   \n",
       "1    0.225            0.472222  ...      0.408333      0.763631   0.857421   \n",
       "2    0.225            0.472222  ...      0.408333      0.763631   0.857421   \n",
       "3    0.175            0.472222  ...      0.408333      0.763631   0.857421   \n",
       "4    0.400            0.472222  ...      0.408333      0.763631   0.857421   \n",
       "\n",
       "   Def_INT_PA  Def_NY/A  Def_1D_PA  Def_Att_Rush  Def_TD_RA   Def_Y/A  \\\n",
       "0    0.393469     0.625   0.802409           1.0   0.280383  0.777778   \n",
       "1    0.393469     0.625   0.802409           1.0   0.280383  0.777778   \n",
       "2    0.393469     0.625   0.802409           1.0   0.280383  0.777778   \n",
       "3    0.393469     0.625   0.802409           1.0   0.280383  0.777778   \n",
       "4    0.393469     0.625   0.802409           1.0   0.280383  0.777778   \n",
       "\n",
       "   Def_1D_RA  \n",
       "0   0.662559  \n",
       "1   0.662559  \n",
       "2   0.662559  \n",
       "3   0.662559  \n",
       "4   0.662559  \n",
       "\n",
       "[5 rows x 24 columns]"
      ]
     },
     "execution_count": 254,
     "metadata": {},
     "output_type": "execute_result"
    }
   ],
   "source": [
    "# Use MinMaxScaler to scale data\n",
    "scaler = MinMaxScaler()\n",
    "X_scaled = scaler.fit_transform(X)\n",
    "X_scaled=pd.DataFrame(X_scaled, columns=X.columns)\n",
    "X_scaled.head()"
   ]
  },
  {
   "cell_type": "code",
   "execution_count": 255,
   "metadata": {},
   "outputs": [],
   "source": [
    "X_train, X_test, y_train, y_test = train_test_split(X_scaled, y, test_size = 0.25, random_state=123)"
   ]
  },
  {
   "cell_type": "markdown",
   "metadata": {},
   "source": [
    "## Random Forest Classifier"
   ]
  },
  {
   "cell_type": "code",
   "execution_count": 256,
   "metadata": {},
   "outputs": [
    {
     "data": {
      "text/plain": [
       "RandomForestClassifier(bootstrap=True, ccp_alpha=0.0, class_weight=None,\n",
       "                       criterion='gini', max_depth=5, max_features='auto',\n",
       "                       max_leaf_nodes=None, max_samples=None,\n",
       "                       min_impurity_decrease=0.0, min_impurity_split=None,\n",
       "                       min_samples_leaf=1, min_samples_split=2,\n",
       "                       min_weight_fraction_leaf=0.0, n_estimators=100,\n",
       "                       n_jobs=None, oob_score=False, random_state=None,\n",
       "                       verbose=0, warm_start=False)"
      ]
     },
     "execution_count": 256,
     "metadata": {},
     "output_type": "execute_result"
    }
   ],
   "source": [
    "# Instantiate and fit a RandomForestClassifier\n",
    "forest = RandomForestClassifier(n_estimators=100, max_depth= 5)\n",
    "forest.fit(X_train, y_train)"
   ]
  },
  {
   "cell_type": "code",
   "execution_count": 257,
   "metadata": {},
   "outputs": [
    {
     "name": "stdout",
     "output_type": "stream",
     "text": [
      "[[157 194]\n",
      " [ 66 466]]\n",
      "              precision    recall  f1-score   support\n",
      "\n",
      "           0       0.70      0.45      0.55       351\n",
      "           1       0.71      0.88      0.78       532\n",
      "\n",
      "    accuracy                           0.71       883\n",
      "   macro avg       0.71      0.66      0.66       883\n",
      "weighted avg       0.71      0.71      0.69       883\n",
      "\n",
      "Testing Accuracy for Random Forest Classifier: 70.55%\n"
     ]
    }
   ],
   "source": [
    "# Test set predictions\n",
    "pred = forest.predict(X_test)\n",
    "\n",
    "# Confusion matrix and classification report\n",
    "print(confusion_matrix(y_test, pred))\n",
    "print(classification_report(y_test, pred))\n",
    "print(\"Testing Accuracy for Random Forest Classifier: {:.4}%\".format(accuracy_score(y_test, pred) * 100))"
   ]
  },
  {
   "cell_type": "code",
   "execution_count": 258,
   "metadata": {
    "scrolled": false
   },
   "outputs": [
    {
     "data": {
      "image/png": "[encoded data removed]",
      "text/plain": [
       "<Figure size 576x576 with 1 Axes>"
      ]
     },
     "metadata": {
      "needs_background": "light"
     },
     "output_type": "display_data"
    }
   ],
   "source": [
    "plot_feature_importances(forest)"
   ]
  },
  {
   "cell_type": "markdown",
   "metadata": {},
   "source": [
    "#### Baseline RFC Interpretation"
   ]
  },
  {
   "cell_type": "markdown",
   "metadata": {},
   "source": [
    "This baseline RFC model did a good job at predicting 1s (Pass) with a testing recall of .88. So 88% of the time our model was able to predict a pass play was ran.  Our model struggled to predict run plays though.\n",
    "\n",
    "\n",
    "The top features for this model were: Shotgun, ydstogo, and down"
   ]
  },
  {
   "cell_type": "markdown",
   "metadata": {},
   "source": [
    "### GridSearch on RFC"
   ]
  },
  {
   "cell_type": "code",
   "execution_count": 259,
   "metadata": {},
   "outputs": [
    {
     "name": "stdout",
     "output_type": "stream",
     "text": [
      "\n",
      "========================================================\n",
      " Results from Grid Search \n",
      "========================================================\n",
      "\n",
      " The best estimator across ALL searched params:\n",
      " RandomForestClassifier(bootstrap=True, ccp_alpha=0.0, class_weight=None,\n",
      "                       criterion='entropy', max_depth=5, max_features='auto',\n",
      "                       max_leaf_nodes=None, max_samples=None,\n",
      "                       min_impurity_decrease=0.0, min_impurity_split=None,\n",
      "                       min_samples_leaf=6, min_samples_split=10,\n",
      "                       min_weight_fraction_leaf=0.0, n_estimators=100,\n",
      "                       n_jobs=None, oob_score=False, random_state=None,\n",
      "                       verbose=0, warm_start=False)\n",
      "\n",
      " The best score across ALL searched params:\n",
      " 0.6835352235772879\n",
      "\n",
      " The best parameters across ALL searched params:\n",
      " {'criterion': 'entropy', 'max_depth': 5, 'min_samples_leaf': 6, 'min_samples_split': 10, 'n_estimators': 100}\n",
      "\n",
      " ========================================================\n"
     ]
    }
   ],
   "source": [
    "model = ensemble.RandomForestClassifier()\n",
    "parameters = {'n_estimators': [10, 30, 100],\n",
    "                'criterion': ['gini', 'entropy'],\n",
    "                'max_depth': [None, 2, 5, 6, 10],\n",
    "                'min_samples_split': [5, 10],\n",
    "                'min_samples_leaf': [3, 6]}\n",
    "\n",
    "grid = GridSearchCV(estimator=model, param_grid = parameters, cv = 3)\n",
    "grid.fit(X_train, y_train)\n",
    "\n",
    "# Results from Grid Search\n",
    "print(\"\\n========================================================\")\n",
    "print(\" Results from Grid Search \" )\n",
    "print(\"========================================================\")\n",
    "print(\"\\n The best estimator across ALL searched params:\\n\",\n",
    "        grid.best_estimator_)\n",
    "print(\"\\n The best score across ALL searched params:\\n\",\n",
    "        grid.best_score_)\n",
    "print(\"\\n The best parameters across ALL searched params:\\n\",\n",
    "        grid.best_params_)\n",
    "print(\"\\n ========================================================\")"
   ]
  },
  {
   "cell_type": "code",
   "execution_count": 264,
   "metadata": {},
   "outputs": [
    {
     "data": {
      "text/plain": [
       "RandomForestClassifier(bootstrap=True, ccp_alpha=0.0, class_weight=None,\n",
       "                       criterion='entropy', max_depth=5, max_features='auto',\n",
       "                       max_leaf_nodes=None, max_samples=None,\n",
       "                       min_impurity_decrease=0.0, min_impurity_split=None,\n",
       "                       min_samples_leaf=6, min_samples_split=10,\n",
       "                       min_weight_fraction_leaf=0.0, n_estimators=100,\n",
       "                       n_jobs=None, oob_score=False, random_state=None,\n",
       "                       verbose=0, warm_start=False)"
      ]
     },
     "execution_count": 264,
     "metadata": {},
     "output_type": "execute_result"
    }
   ],
   "source": [
    "# Instantiate and fit a RandomForestClassifier\n",
    "forestg =  RandomForestClassifier(bootstrap=True, ccp_alpha=0.0, class_weight=None,\n",
    "                       criterion='entropy', max_depth=5, max_features='auto',\n",
    "                       max_leaf_nodes=None, max_samples=None,\n",
    "                       min_impurity_decrease=0.0, min_impurity_split=None,\n",
    "                       min_samples_leaf=6, min_samples_split=10,\n",
    "                       min_weight_fraction_leaf=0.0, n_estimators=100,\n",
    "                       n_jobs=None, oob_score=False, random_state=None,\n",
    "                       verbose=0, warm_start=False)\n",
    "forestg.fit(X_train, y_train)"
   ]
  },
  {
   "cell_type": "code",
   "execution_count": 265,
   "metadata": {},
   "outputs": [
    {
     "name": "stdout",
     "output_type": "stream",
     "text": [
      "[[153 198]\n",
      " [ 67 465]]\n",
      "              precision    recall  f1-score   support\n",
      "\n",
      "           0       0.70      0.44      0.54       351\n",
      "           1       0.70      0.87      0.78       532\n",
      "\n",
      "    accuracy                           0.70       883\n",
      "   macro avg       0.70      0.65      0.66       883\n",
      "weighted avg       0.70      0.70      0.68       883\n",
      "\n",
      "Testing Accuracy for Random Forest Classifier: 69.99%\n"
     ]
    }
   ],
   "source": [
    "# Test set predictions\n",
    "pred = forestg.predict(X_test)\n",
    "\n",
    "# Confusion matrix and classification report\n",
    "print(confusion_matrix(y_test, pred))\n",
    "print(classification_report(y_test, pred))\n",
    "print(\"Testing Accuracy for Random Forest Classifier: {:.4}%\".format(accuracy_score(y_test, pred) * 100))"
   ]
  },
  {
   "cell_type": "markdown",
   "metadata": {},
   "source": [
    "#### GridSearch RFC Interpretation"
   ]
  },
  {
   "cell_type": "markdown",
   "metadata": {},
   "source": [
    "The recall grew slighlty worse after the gridsearch."
   ]
  },
  {
   "cell_type": "markdown",
   "metadata": {},
   "source": [
    "## Top Features RFC"
   ]
  },
  {
   "cell_type": "code",
   "execution_count": 266,
   "metadata": {
    "scrolled": true
   },
   "outputs": [],
   "source": [
    "top_feat = X_scaled[['shotgun', 'score_differential', 'ydstogo', 'down', 'half_seconds_remaining']]\n",
    "X_train, X_test, y_train, y_test = train_test_split(top_feat, y, test_size = 0.25, random_state=123)"
   ]
  },
  {
   "cell_type": "code",
   "execution_count": 267,
   "metadata": {},
   "outputs": [
    {
     "data": {
      "text/plain": [
       "RandomForestClassifier(bootstrap=True, ccp_alpha=0.0, class_weight=None,\n",
       "                       criterion='gini', max_depth=5, max_features='auto',\n",
       "                       max_leaf_nodes=None, max_samples=None,\n",
       "                       min_impurity_decrease=0.0, min_impurity_split=None,\n",
       "                       min_samples_leaf=1, min_samples_split=2,\n",
       "                       min_weight_fraction_leaf=0.0, n_estimators=100,\n",
       "                       n_jobs=None, oob_score=False, random_state=None,\n",
       "                       verbose=0, warm_start=False)"
      ]
     },
     "execution_count": 267,
     "metadata": {},
     "output_type": "execute_result"
    }
   ],
   "source": [
    "# Instantiate and fit a RandomForestClassifier\n",
    "forest_top = RandomForestClassifier(n_estimators=100, max_depth= 5)\n",
    "forest_top.fit(X_train, y_train)"
   ]
  },
  {
   "cell_type": "code",
   "execution_count": 268,
   "metadata": {},
   "outputs": [
    {
     "name": "stdout",
     "output_type": "stream",
     "text": [
      "[[164 187]\n",
      " [ 76 456]]\n",
      "              precision    recall  f1-score   support\n",
      "\n",
      "           0       0.68      0.47      0.55       351\n",
      "           1       0.71      0.86      0.78       532\n",
      "\n",
      "    accuracy                           0.70       883\n",
      "   macro avg       0.70      0.66      0.67       883\n",
      "weighted avg       0.70      0.70      0.69       883\n",
      "\n",
      "Testing Accuracy for Random Forest Classifier: 70.22%\n"
     ]
    }
   ],
   "source": [
    "# Test set predictions\n",
    "pred = forest_top.predict(X_test)\n",
    "\n",
    "# Confusion matrix and classification report\n",
    "print(confusion_matrix(y_test, pred))\n",
    "print(classification_report(y_test, pred))\n",
    "print(\"Testing Accuracy for Random Forest Classifier: {:.4}%\".format(accuracy_score(y_test, pred) * 100))"
   ]
  },
  {
   "cell_type": "markdown",
   "metadata": {},
   "source": [
    "### Gridsearch on RFC Top Features"
   ]
  },
  {
   "cell_type": "code",
   "execution_count": 269,
   "metadata": {},
   "outputs": [
    {
     "name": "stdout",
     "output_type": "stream",
     "text": [
      "\n",
      "========================================================\n",
      " Results from Grid Search \n",
      "========================================================\n",
      "\n",
      " The best estimator across ALL searched params:\n",
      " RandomForestClassifier(bootstrap=True, ccp_alpha=0.0, class_weight=None,\n",
      "                       criterion='gini', max_depth=6, max_features='auto',\n",
      "                       max_leaf_nodes=None, max_samples=None,\n",
      "                       min_impurity_decrease=0.0, min_impurity_split=None,\n",
      "                       min_samples_leaf=3, min_samples_split=10,\n",
      "                       min_weight_fraction_leaf=0.0, n_estimators=100,\n",
      "                       n_jobs=None, oob_score=False, random_state=None,\n",
      "                       verbose=0, warm_start=False)\n",
      "\n",
      " The best score across ALL searched params:\n",
      " 0.6941086740471953\n",
      "\n",
      " The best parameters across ALL searched params:\n",
      " {'criterion': 'gini', 'max_depth': 6, 'min_samples_leaf': 3, 'min_samples_split': 10, 'n_estimators': 100}\n",
      "\n",
      " ========================================================\n"
     ]
    }
   ],
   "source": [
    "model = ensemble.RandomForestClassifier()\n",
    "parameters = {'n_estimators': [10, 30, 100],\n",
    "                'criterion': ['gini', 'entropy'],\n",
    "                'max_depth': [None, 2, 5, 6, 10],\n",
    "                'min_samples_split': [5, 10],\n",
    "                'min_samples_leaf': [3, 6]}\n",
    "\n",
    "grid = GridSearchCV(estimator=model, param_grid = parameters, cv = 3)\n",
    "grid.fit(X_train, y_train)\n",
    "\n",
    "# Results from Grid Search\n",
    "print(\"\\n========================================================\")\n",
    "print(\" Results from Grid Search \" )\n",
    "print(\"========================================================\")\n",
    "print(\"\\n The best estimator across ALL searched params:\\n\",\n",
    "        grid.best_estimator_)\n",
    "print(\"\\n The best score across ALL searched params:\\n\",\n",
    "        grid.best_score_)\n",
    "print(\"\\n The best parameters across ALL searched params:\\n\",\n",
    "        grid.best_params_)\n",
    "print(\"\\n ========================================================\")"
   ]
  },
  {
   "cell_type": "code",
   "execution_count": 285,
   "metadata": {},
   "outputs": [
    {
     "data": {
      "text/plain": [
       "RandomForestClassifier(bootstrap=True, ccp_alpha=0.0, class_weight=None,\n",
       "                       criterion='gini', max_depth=6, max_features='auto',\n",
       "                       max_leaf_nodes=None, max_samples=None,\n",
       "                       min_impurity_decrease=0.0, min_impurity_split=None,\n",
       "                       min_samples_leaf=3, min_samples_split=10,\n",
       "                       min_weight_fraction_leaf=0.0, n_estimators=100,\n",
       "                       n_jobs=None, oob_score=False, random_state=None,\n",
       "                       verbose=0, warm_start=False)"
      ]
     },
     "execution_count": 285,
     "metadata": {},
     "output_type": "execute_result"
    }
   ],
   "source": [
    "# Instantiate and fit a RandomForestClassifier\n",
    "forest_topg = RandomForestClassifier(bootstrap=True, ccp_alpha=0.0, class_weight=None,\n",
    "                       criterion='gini', max_depth=6, max_features='auto',\n",
    "                       max_leaf_nodes=None, max_samples=None,\n",
    "                       min_impurity_decrease=0.0, min_impurity_split=None,\n",
    "                       min_samples_leaf=3, min_samples_split=10,\n",
    "                       min_weight_fraction_leaf=0.0, n_estimators=100,\n",
    "                       n_jobs=None, oob_score=False, random_state=None,\n",
    "                       verbose=0, warm_start=False)\n",
    "forest_topg.fit(X_train, y_train)"
   ]
  },
  {
   "cell_type": "code",
   "execution_count": 286,
   "metadata": {},
   "outputs": [
    {
     "name": "stdout",
     "output_type": "stream",
     "text": [
      "[[165 186]\n",
      " [ 75 457]]\n",
      "              precision    recall  f1-score   support\n",
      "\n",
      "           0       0.69      0.47      0.56       351\n",
      "           1       0.71      0.86      0.78       532\n",
      "\n",
      "    accuracy                           0.70       883\n",
      "   macro avg       0.70      0.66      0.67       883\n",
      "weighted avg       0.70      0.70      0.69       883\n",
      "\n",
      "Testing Accuracy for Random Forest Classifier: 70.44%\n"
     ]
    }
   ],
   "source": [
    "# Test set predictions\n",
    "pred = forest_topg.predict(X_test)\n",
    "\n",
    "# Confusion matrix and classification report\n",
    "print(confusion_matrix(y_test, pred))\n",
    "print(classification_report(y_test, pred))\n",
    "print(\"Testing Accuracy for Random Forest Classifier: {:.4}%\".format(accuracy_score(y_test, pred) * 100))"
   ]
  },
  {
   "cell_type": "markdown",
   "metadata": {},
   "source": [
    "## Gradient Boosting Classifier"
   ]
  },
  {
   "cell_type": "code",
   "execution_count": 272,
   "metadata": {},
   "outputs": [],
   "source": [
    "X_train, X_test, y_train, y_test = train_test_split(X_scaled, y, test_size = 0.25, random_state=123)"
   ]
  },
  {
   "cell_type": "code",
   "execution_count": 273,
   "metadata": {},
   "outputs": [
    {
     "data": {
      "text/plain": [
       "GradientBoostingClassifier(ccp_alpha=0.0, criterion='friedman_mse', init=None,\n",
       "                           learning_rate=0.02, loss='deviance', max_depth=3,\n",
       "                           max_features=None, max_leaf_nodes=None,\n",
       "                           min_impurity_decrease=0.0, min_impurity_split=None,\n",
       "                           min_samples_leaf=1, min_samples_split=2,\n",
       "                           min_weight_fraction_leaf=0.0, n_estimators=100,\n",
       "                           n_iter_no_change=None, presort='deprecated',\n",
       "                           random_state=None, subsample=1.0, tol=0.0001,\n",
       "                           validation_fraction=0.1, verbose=0,\n",
       "                           warm_start=False)"
      ]
     },
     "execution_count": 273,
     "metadata": {},
     "output_type": "execute_result"
    }
   ],
   "source": [
    "gbr = ensemble.GradientBoostingClassifier(n_estimators = 100, learning_rate = 0.02)\n",
    "\n",
    "gbr.fit(X_train, y_train)"
   ]
  },
  {
   "cell_type": "code",
   "execution_count": 274,
   "metadata": {},
   "outputs": [
    {
     "name": "stdout",
     "output_type": "stream",
     "text": [
      "[[157 194]\n",
      " [ 73 459]]\n",
      "              precision    recall  f1-score   support\n",
      "\n",
      "           0       0.68      0.45      0.54       351\n",
      "           1       0.70      0.86      0.77       532\n",
      "\n",
      "    accuracy                           0.70       883\n",
      "   macro avg       0.69      0.66      0.66       883\n",
      "weighted avg       0.69      0.70      0.68       883\n",
      "\n",
      "Testing Accuracy for Gradient Boosting Classifier: 69.76%\n"
     ]
    }
   ],
   "source": [
    "# Test set predictions\n",
    "pred = gbr.predict(X_test)\n",
    "\n",
    "# Confusion matrix and classification report\n",
    "print(confusion_matrix(y_test, pred))\n",
    "print(classification_report(y_test, pred))\n",
    "print(\"Testing Accuracy for Gradient Boosting Classifier: {:.4}%\".format(accuracy_score(y_test, pred) * 100))"
   ]
  },
  {
   "cell_type": "code",
   "execution_count": 275,
   "metadata": {},
   "outputs": [
    {
     "data": {
      "image/png": "[encoded data removed]",
      "text/plain": [
       "<Figure size 576x576 with 1 Axes>"
      ]
     },
     "metadata": {
      "needs_background": "light"
     },
     "output_type": "display_data"
    }
   ],
   "source": [
    "plot_feature_importances(gbr)"
   ]
  },
  {
   "cell_type": "markdown",
   "metadata": {},
   "source": [
    "### GridSearch on Gradient Boosting Classifier"
   ]
  },
  {
   "cell_type": "code",
   "execution_count": 276,
   "metadata": {},
   "outputs": [
    {
     "name": "stdout",
     "output_type": "stream",
     "text": [
      "\n",
      "========================================================\n",
      " Results from Grid Search \n",
      "========================================================\n",
      "\n",
      " The best estimator across ALL searched params:\n",
      " GradientBoostingClassifier(ccp_alpha=0.0, criterion='friedman_mse', init=None,\n",
      "                           learning_rate=0.02, loss='deviance', max_depth=4,\n",
      "                           max_features=None, max_leaf_nodes=None,\n",
      "                           min_impurity_decrease=0.0, min_impurity_split=None,\n",
      "                           min_samples_leaf=1, min_samples_split=2,\n",
      "                           min_weight_fraction_leaf=0.0, n_estimators=100,\n",
      "                           n_iter_no_change=None, presort='deprecated',\n",
      "                           random_state=None, subsample=0.5, tol=0.0001,\n",
      "                           validation_fraction=0.1, verbose=0,\n",
      "                           warm_start=False)\n",
      "\n",
      " The best score across ALL searched params:\n",
      " 0.6782477341389728\n",
      "\n",
      " The best parameters across ALL searched params:\n",
      " {'learning_rate': 0.02, 'max_depth': 4, 'n_estimators': 100, 'subsample': 0.5}\n",
      "\n",
      " ========================================================\n"
     ]
    }
   ],
   "source": [
    "model = ensemble.GradientBoostingClassifier()\n",
    "parameters = {'learning_rate': [0.01,0.02,0.03],\n",
    "                  'subsample'    : [0.9, 0.5, 0.2],\n",
    "                  'n_estimators' : [100,500,1000],\n",
    "                  'max_depth'    : [4,6,8]\n",
    "                 }\n",
    "\n",
    "grid = GridSearchCV(estimator=model, param_grid = parameters, cv = 2, n_jobs=-1)\n",
    "grid.fit(X_train, y_train)\n",
    "\n",
    "# Results from Grid Search\n",
    "print(\"\\n========================================================\")\n",
    "print(\" Results from Grid Search \" )\n",
    "print(\"========================================================\")\n",
    "print(\"\\n The best estimator across ALL searched params:\\n\",\n",
    "        grid.best_estimator_)\n",
    "print(\"\\n The best score across ALL searched params:\\n\",\n",
    "        grid.best_score_)\n",
    "print(\"\\n The best parameters across ALL searched params:\\n\",\n",
    "        grid.best_params_)\n",
    "print(\"\\n ========================================================\")"
   ]
  },
  {
   "cell_type": "code",
   "execution_count": 291,
   "metadata": {},
   "outputs": [
    {
     "data": {
      "text/plain": [
       "GradientBoostingClassifier(ccp_alpha=0.0, criterion='friedman_mse', init=None,\n",
       "                           learning_rate=0.02, loss='deviance', max_depth=4,\n",
       "                           max_features=None, max_leaf_nodes=None,\n",
       "                           min_impurity_decrease=0.0, min_impurity_split=None,\n",
       "                           min_samples_leaf=1, min_samples_split=2,\n",
       "                           min_weight_fraction_leaf=0.0, n_estimators=100,\n",
       "                           n_iter_no_change=None, presort='deprecated',\n",
       "                           random_state=None, subsample=0.5, tol=0.0001,\n",
       "                           validation_fraction=0.1, verbose=0,\n",
       "                           warm_start=False)"
      ]
     },
     "execution_count": 291,
     "metadata": {},
     "output_type": "execute_result"
    }
   ],
   "source": [
    "gbrg = ensemble.GradientBoostingClassifier(ccp_alpha=0.0, criterion='friedman_mse', init=None,\n",
    "                           learning_rate=0.02, loss='deviance', max_depth=4,\n",
    "                           max_features=None, max_leaf_nodes=None,\n",
    "                           min_impurity_decrease=0.0, min_impurity_split=None,\n",
    "                           min_samples_leaf=1, min_samples_split=2,\n",
    "                           min_weight_fraction_leaf=0.0, n_estimators=100,\n",
    "                           n_iter_no_change=None, presort='deprecated',\n",
    "                           random_state=None, subsample=0.5, tol=0.0001,\n",
    "                           validation_fraction=0.1, verbose=0,\n",
    "                           warm_start=False)\n",
    "gbrg.fit(X_train, y_train)"
   ]
  },
  {
   "cell_type": "code",
   "execution_count": 292,
   "metadata": {},
   "outputs": [
    {
     "name": "stdout",
     "output_type": "stream",
     "text": [
      "[[167 184]\n",
      " [ 78 454]]\n",
      "              precision    recall  f1-score   support\n",
      "\n",
      "           0       0.68      0.48      0.56       351\n",
      "           1       0.71      0.85      0.78       532\n",
      "\n",
      "    accuracy                           0.70       883\n",
      "   macro avg       0.70      0.66      0.67       883\n",
      "weighted avg       0.70      0.70      0.69       883\n",
      "\n",
      "Testing Accuracy for Gradient Boosting Classifier: 70.33%\n"
     ]
    }
   ],
   "source": [
    "# Test set predictions\n",
    "pred = gbrg.predict(X_test)\n",
    "\n",
    "# Confusion matrix and classification report\n",
    "print(confusion_matrix(y_test, pred))\n",
    "print(classification_report(y_test, pred))\n",
    "print(\"Testing Accuracy for Gradient Boosting Classifier: {:.4}%\".format(accuracy_score(y_test, pred) * 100))"
   ]
  },
  {
   "cell_type": "markdown",
   "metadata": {},
   "source": [
    "## Top Features GBC"
   ]
  },
  {
   "cell_type": "code",
   "execution_count": 279,
   "metadata": {},
   "outputs": [],
   "source": [
    "X_train, X_test, y_train, y_test = train_test_split(top_feat, y, test_size = 0.25, random_state=123)"
   ]
  },
  {
   "cell_type": "code",
   "execution_count": 280,
   "metadata": {},
   "outputs": [
    {
     "data": {
      "text/plain": [
       "GradientBoostingClassifier(ccp_alpha=0.0, criterion='friedman_mse', init=None,\n",
       "                           learning_rate=0.02, loss='deviance', max_depth=3,\n",
       "                           max_features=None, max_leaf_nodes=None,\n",
       "                           min_impurity_decrease=0.0, min_impurity_split=None,\n",
       "                           min_samples_leaf=1, min_samples_split=2,\n",
       "                           min_weight_fraction_leaf=0.0, n_estimators=100,\n",
       "                           n_iter_no_change=None, presort='deprecated',\n",
       "                           random_state=None, subsample=1.0, tol=0.0001,\n",
       "                           validation_fraction=0.1, verbose=0,\n",
       "                           warm_start=False)"
      ]
     },
     "execution_count": 280,
     "metadata": {},
     "output_type": "execute_result"
    }
   ],
   "source": [
    "gbr_top = ensemble.GradientBoostingClassifier(n_estimators = 100, learning_rate = 0.02)\n",
    "\n",
    "gbr_top.fit(X_train, y_train)"
   ]
  },
  {
   "cell_type": "code",
   "execution_count": 281,
   "metadata": {},
   "outputs": [
    {
     "name": "stdout",
     "output_type": "stream",
     "text": [
      "[[158 193]\n",
      " [ 75 457]]\n",
      "              precision    recall  f1-score   support\n",
      "\n",
      "           0       0.68      0.45      0.54       351\n",
      "           1       0.70      0.86      0.77       532\n",
      "\n",
      "    accuracy                           0.70       883\n",
      "   macro avg       0.69      0.65      0.66       883\n",
      "weighted avg       0.69      0.70      0.68       883\n",
      "\n",
      "Testing Accuracy for Gradient Boosting Classifier: 69.65%\n"
     ]
    }
   ],
   "source": [
    "# Test set predictions\n",
    "pred = gbr_top.predict(X_test)\n",
    "\n",
    "# Confusion matrix and classification report\n",
    "print(confusion_matrix(y_test, pred))\n",
    "print(classification_report(y_test, pred))\n",
    "print(\"Testing Accuracy for Gradient Boosting Classifier: {:.4}%\".format(accuracy_score(y_test, pred) * 100))"
   ]
  },
  {
   "cell_type": "markdown",
   "metadata": {},
   "source": [
    "### Gridsearch on Top GBR Features"
   ]
  },
  {
   "cell_type": "code",
   "execution_count": 282,
   "metadata": {},
   "outputs": [
    {
     "name": "stdout",
     "output_type": "stream",
     "text": [
      "\n",
      "========================================================\n",
      " Results from Grid Search \n",
      "========================================================\n",
      "\n",
      " The best estimator across ALL searched params:\n",
      " GradientBoostingClassifier(ccp_alpha=0.0, criterion='friedman_mse', init=None,\n",
      "                           learning_rate=0.02, loss='deviance', max_depth=4,\n",
      "                           max_features=None, max_leaf_nodes=None,\n",
      "                           min_impurity_decrease=0.0, min_impurity_split=None,\n",
      "                           min_samples_leaf=1, min_samples_split=2,\n",
      "                           min_weight_fraction_leaf=0.0, n_estimators=100,\n",
      "                           n_iter_no_change=None, presort='deprecated',\n",
      "                           random_state=None, subsample=0.2, tol=0.0001,\n",
      "                           validation_fraction=0.1, verbose=0,\n",
      "                           warm_start=False)\n",
      "\n",
      " The best score across ALL searched params:\n",
      " 0.6797583081570997\n",
      "\n",
      " The best parameters across ALL searched params:\n",
      " {'learning_rate': 0.02, 'max_depth': 4, 'n_estimators': 100, 'subsample': 0.2}\n",
      "\n",
      " ========================================================\n"
     ]
    }
   ],
   "source": [
    "model = ensemble.GradientBoostingClassifier()\n",
    "parameters = {'learning_rate': [0.01,0.02,0.03],\n",
    "                  'subsample'    : [0.9, 0.5, 0.2],\n",
    "                  'n_estimators' : [100,500,1000],\n",
    "                  'max_depth'    : [4,6,8]\n",
    "                 }\n",
    "\n",
    "grid = GridSearchCV(estimator=model, param_grid = parameters, cv = 2, n_jobs=-1)\n",
    "grid.fit(X_train, y_train)\n",
    "\n",
    "# Results from Grid Search\n",
    "print(\"\\n========================================================\")\n",
    "print(\" Results from Grid Search \" )\n",
    "print(\"========================================================\")\n",
    "print(\"\\n The best estimator across ALL searched params:\\n\",\n",
    "        grid.best_estimator_)\n",
    "print(\"\\n The best score across ALL searched params:\\n\",\n",
    "        grid.best_score_)\n",
    "print(\"\\n The best parameters across ALL searched params:\\n\",\n",
    "        grid.best_params_)\n",
    "print(\"\\n ========================================================\")"
   ]
  },
  {
   "cell_type": "code",
   "execution_count": 295,
   "metadata": {},
   "outputs": [
    {
     "data": {
      "text/plain": [
       "GradientBoostingClassifier(ccp_alpha=0.0, criterion='friedman_mse', init=None,\n",
       "                           learning_rate=0.02, loss='deviance', max_depth=4,\n",
       "                           max_features=None, max_leaf_nodes=None,\n",
       "                           min_impurity_decrease=0.0, min_impurity_split=None,\n",
       "                           min_samples_leaf=1, min_samples_split=2,\n",
       "                           min_weight_fraction_leaf=0.0, n_estimators=100,\n",
       "                           n_iter_no_change=None, presort='deprecated',\n",
       "                           random_state=None, subsample=0.2, tol=0.0001,\n",
       "                           validation_fraction=0.1, verbose=0,\n",
       "                           warm_start=False)"
      ]
     },
     "execution_count": 295,
     "metadata": {},
     "output_type": "execute_result"
    }
   ],
   "source": [
    "gbr_topg = ensemble.GradientBoostingClassifier(ccp_alpha=0.0, criterion='friedman_mse', init=None,\n",
    "                           learning_rate=0.02, loss='deviance', max_depth=4,\n",
    "                           max_features=None, max_leaf_nodes=None,\n",
    "                           min_impurity_decrease=0.0, min_impurity_split=None,\n",
    "                           min_samples_leaf=1, min_samples_split=2,\n",
    "                           min_weight_fraction_leaf=0.0, n_estimators=100,\n",
    "                           n_iter_no_change=None, presort='deprecated',\n",
    "                           random_state=None, subsample=0.2, tol=0.0001,\n",
    "                           validation_fraction=0.1, verbose=0,\n",
    "                           warm_start=False)\n",
    "\n",
    "gbr_topg.fit(X_train, y_train)"
   ]
  },
  {
   "cell_type": "code",
   "execution_count": 296,
   "metadata": {},
   "outputs": [
    {
     "name": "stdout",
     "output_type": "stream",
     "text": [
      "[[167 184]\n",
      " [ 76 456]]\n",
      "              precision    recall  f1-score   support\n",
      "\n",
      "           0       0.69      0.48      0.56       351\n",
      "           1       0.71      0.86      0.78       532\n",
      "\n",
      "    accuracy                           0.71       883\n",
      "   macro avg       0.70      0.67      0.67       883\n",
      "weighted avg       0.70      0.71      0.69       883\n",
      "\n",
      "Testing Accuracy for Gradient Boosting Classifier: 70.55%\n"
     ]
    }
   ],
   "source": [
    "# Test set predictions\n",
    "pred = gbr_topg.predict(X_test)\n",
    "\n",
    "# Confusion matrix and classification report\n",
    "print(confusion_matrix(y_test, pred))\n",
    "print(classification_report(y_test, pred))\n",
    "print(\"Testing Accuracy for Gradient Boosting Classifier: {:.4}%\".format(accuracy_score(y_test, pred) * 100))"
   ]
  },
  {
   "cell_type": "markdown",
   "metadata": {},
   "source": [
    "# Interpretation of Model Results"
   ]
  },
  {
   "cell_type": "markdown",
   "metadata": {},
   "source": [
    "The best model wound up being the Gridsearched GBC Top Features Model.  It had the highest recall on the 0s (Run Plays) at 0.48.  This meant that 48% of the time our model was able to predict a run play was ran.  We sacraficed a small amount of accuracy on predicting pass plays but we still had a recall of 0.86.  The accuracy of both together was 70.55%. Overall all of the models predicted Pass Plays well but did a poor job at predicting Run Plays."
   ]
  },
  {
   "cell_type": "markdown",
   "metadata": {},
   "source": [
    "# Top Features"
   ]
  },
  {
   "cell_type": "markdown",
   "metadata": {},
   "source": [
    "The top predicitve features in the models were: Shotgun, ydstogo, down, halftimesecondsremaing, and scoredifferential\n",
    "\n",
    "The most predictive feature was whether the offensive team lined up in a shotgun formation.  This makes sense as we saw in the EDA process, if a team lines up in a shotgun formation, then they typically pass the ball 75% of the time."
   ]
  },
  {
   "cell_type": "markdown",
   "metadata": {},
   "source": [
    "# Recommendation"
   ]
  },
  {
   "cell_type": "markdown",
   "metadata": {},
   "source": [
    "If you input data and the model predicts it is a pass play, then you can be fairly confident that the team will pass.  If the model predicts a run play, be very cautious that you do not sell out to the pass because the model was not very accurate in predicting run plays."
   ]
  },
  {
   "cell_type": "markdown",
   "metadata": {},
   "source": [
    "# Using Model on Other Teams"
   ]
  },
  {
   "cell_type": "code",
   "execution_count": 303,
   "metadata": {},
   "outputs": [],
   "source": [
    "# Replace Run/Pass with 0/1\n",
    "merged_df['play_type']=merged_df['play_type'].replace({'run': '0', 'pass':'1'}).astype(int)"
   ]
  },
  {
   "cell_type": "code",
   "execution_count": 304,
   "metadata": {},
   "outputs": [],
   "source": [
    "results = pd.DataFrame(columns =['accuracy'])\n",
    "\n",
    "for tm in merged_df.posteam.unique():\n",
    "    \n",
    "    all_df = merged_df[(merged_df.posteam == tm)]\n",
    "\n",
    "    target = all_df['play_type']\n",
    "    features = all_df[['shotgun', 'score_differential', 'ydstogo', 'down', 'half_seconds_remaining']]\n",
    "    data_train, data_test, target_train, target_test = train_test_split(features, target, \n",
    "                                                                    test_size = 0.25, random_state=123)\n",
    "    \n",
    "    prediction = gbr_topg.predict(data_test)\n",
    "    accuracy = accuracy_score(target_test, prediction)\n",
    "   \n",
    "    results.loc[tm] = [accuracy]"
   ]
  },
  {
   "cell_type": "code",
   "execution_count": 305,
   "metadata": {},
   "outputs": [
    {
     "data": {
      "image/png": "[encoded data removed]",
      "text/plain": [
       "<Figure size 432x288 with 1 Axes>"
      ]
     },
     "metadata": {
      "needs_background": "light"
     },
     "output_type": "display_data"
    }
   ],
   "source": [
    "plt.bar(results.index,results.accuracy)\n",
    "plt.xticks(rotation=90)\n",
    "plt.title(\"Accuracy of Predictive Model trained on Eagles for all 32 NFL teams\")\n",
    "plt.subplots_adjust(left=0, bottom=0, right=1, top=1, wspace=0, hspace=0)\n",
    "plt.show()"
   ]
  },
  {
   "cell_type": "code",
   "execution_count": null,
   "metadata": {},
   "outputs": [],
   "source": []
  }
 ],
 "metadata": {
  "kernelspec": {
   "display_name": "Python 3",
   "language": "python",
   "name": "python3"
  },
  "language_info": {
   "codemirror_mode": {
    "name": "ipython",
    "version": 3
   },
   "file_extension": ".py",
   "mimetype": "text/x-python",
   "name": "python",
   "nbconvert_exporter": "python",
   "pygments_lexer": "ipython3",
   "version": "3.7.6"
  }
 },
 "nbformat": 4,
 "nbformat_minor": 4
}
